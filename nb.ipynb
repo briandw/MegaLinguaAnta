{
 "cells": [
  {
   "cell_type": "code",
   "execution_count": 22,
   "metadata": {},
   "outputs": [
    {
     "ename": "ModuleNotFoundError",
     "evalue": "No module named 'PIL'",
     "output_type": "error",
     "traceback": [
      "\u001b[0;31m---------------------------------------------------------------------------\u001b[0m",
      "\u001b[0;31mModuleNotFoundError\u001b[0m                       Traceback (most recent call last)",
      "Cell \u001b[0;32mIn[22], line 5\u001b[0m\n\u001b[1;32m      3\u001b[0m \u001b[39mfrom\u001b[39;00m \u001b[39mtyping\u001b[39;00m \u001b[39mimport\u001b[39;00m List, Optional\n\u001b[1;32m      4\u001b[0m \u001b[39mimport\u001b[39;00m \u001b[39mrandom\u001b[39;00m\n\u001b[0;32m----> 5\u001b[0m \u001b[39mimport\u001b[39;00m \u001b[39mPIL\u001b[39;00m\n",
      "\u001b[0;31mModuleNotFoundError\u001b[0m: No module named 'PIL'"
     ]
    }
   ],
   "source": [
    "from dataclasses import dataclass\n",
    "from enum import Enum, IntEnum\n",
    "from typing import List, Optional\n",
    "import random"
   ]
  },
  {
   "cell_type": "code",
   "execution_count": 15,
   "metadata": {},
   "outputs": [
    {
     "data": {
      "text/plain": [
       "2"
      ]
     },
     "execution_count": 15,
     "metadata": {},
     "output_type": "execute_result"
    }
   ],
   "source": []
  },
  {
   "cell_type": "code",
   "execution_count": 44,
   "metadata": {},
   "outputs": [],
   "source": [
    "\n",
    "\n",
    "class Inventory(IntEnum):\n",
    "    LEAF = 1\n",
    "\n",
    "@dataclass\n",
    "class Position:\n",
    "    x: int\n",
    "    y: int\n",
    "    \n",
    "    @staticmethod\n",
    "    def random(max_x: int, max_y: int) -> Position:\n",
    "        x = random.randrange(max_x)\n",
    "        y = random.randrange(max_y)\n",
    "        return Position(x,y)\n",
    "\n",
    "@dataclass\n",
    "class Size:\n",
    "    width: int\n",
    "    height: int\n",
    "\n",
    "class Caste(IntEnum):\n",
    "    WORKER = 1\n",
    "    SOLDIER = 2\n",
    "    QUEEN = 3\n",
    "\n",
    "    @classmethod\n",
    "    def random(cls) -> Caste:\n",
    "        int_value = random.randrange(len(Caste))\n",
    "        return scls(int_value)\n",
    "\n",
    "@dataclass\n",
    "class Ant():\n",
    "    caste: Caste\n",
    "    position: Position\n",
    "    age: int\n",
    "    health: int\n",
    "    food: int\n",
    "    water: int\n",
    "    inventory: List[Inventory]\n",
    "    history: List[str]\n",
    "\n",
    "\n",
    "class TerraineItem(Enum):\n",
    "    GRASS = 0\n",
    "    DIRT = 1\n",
    "    WATER = 2\n",
    "    TREE = 3\n",
    "    NEST = 4\n",
    "\n",
    "    def text(self) -> str:\n",
    "        match self:\n",
    "            case TerraineItem.GRASS:\n",
    "                return \"G\"\n",
    "            case TerraineItem.DIRT:\n",
    "                return \"D\"\n",
    "            case TerraineItem.WATER:\n",
    "                return \"W\"\n",
    "            case TerraineItem.TREE:\n",
    "                return \"T\"\n",
    "            case TerraineItem.NEXT:\n",
    "                return \"N\"\n",
    "\n",
    "\n",
    "\n",
    "@dataclass\n",
    "class Map():\n",
    "    size: Size\n",
    "    terraine: List[TerraineItem]\n",
    "\n",
    "    def set_item(self, pos:Position, item:TerraineItem):\n",
    "        index = self.size.width * pos.y + pos.x\n",
    "        self.terraine[index] = item\n",
    "\n",
    "    def get_item(self, pos: Position) -> TerraineItem:\n",
    "        index = self.size.width * pos.y + pos.x\n",
    "        return self.terraine[index]\n",
    "\n",
    "\n",
    "@dataclass\n",
    "class World():\n",
    "    ants: List[Ant]\n",
    "    map: Map\n",
    "\n",
    "    def display(self) -> str:\n",
    "        text_map = \"\"\n",
    "        size = self.map.size\n",
    "        for y in range(size.width):\n",
    "            for x in range(size.height):\n",
    "                item = self.map.get_item(Position(x,y))\n",
    "                text_map += item.text() + \"  \"\n",
    "            text_map += \"\\n\"\n",
    "            \n",
    "        return text_map\n",
    "\n",
    "def creat_world() -> World:\n",
    "    map_size = Size(20, 20)\n",
    "\n",
    "    ants = []\n",
    "    for _ in range(5):\n",
    "        pos = Position.random(map_size.width, map_size.height)\n",
    "        ant = Ant(Caste.WORKER, pos, 0, 100, 100, 100, [], [])\n",
    "        ants.append(ant)\n",
    "\n",
    "    terraine = [TerraineItem.GRASS for _ in range(map_size.width*map_size.height)]\n",
    "    map = Map(map_size, terraine)\n",
    "\n",
    "    return World(ants, map)\n",
    "    \n",
    "\n",
    "\n"
   ]
  },
  {
   "cell_type": "code",
   "execution_count": 45,
   "metadata": {},
   "outputs": [
    {
     "name": "stdout",
     "output_type": "stream",
     "text": [
      "G  G  G  G  G  G  G  G  G  G  G  G  G  G  G  G  G  G  G  G  \n",
      "G  G  G  G  G  G  G  G  G  G  G  G  G  G  G  G  G  G  G  G  \n",
      "G  G  G  G  G  G  G  G  G  G  G  G  G  G  G  G  G  G  G  G  \n",
      "G  G  G  G  G  G  G  G  G  G  G  G  G  G  G  G  G  G  G  G  \n",
      "G  G  G  G  G  G  G  G  G  G  G  G  G  G  G  G  G  G  G  G  \n",
      "G  G  G  G  G  G  G  G  G  G  G  G  G  G  G  G  G  G  G  G  \n",
      "G  G  G  G  G  G  G  G  G  G  G  G  G  G  G  G  G  G  G  G  \n",
      "G  G  G  G  G  G  G  G  G  G  G  G  G  G  G  G  G  G  G  G  \n",
      "G  G  G  G  G  G  G  G  G  G  G  G  G  G  G  G  G  G  G  G  \n",
      "G  G  G  G  G  G  G  G  G  G  G  G  G  G  G  G  G  G  G  G  \n",
      "G  G  G  G  G  G  G  G  G  G  G  G  G  G  G  G  G  G  G  G  \n",
      "G  G  G  G  G  G  G  G  G  G  G  G  G  G  G  G  G  G  G  G  \n",
      "G  G  G  G  G  G  G  G  G  G  G  G  G  G  G  G  G  G  G  G  \n",
      "G  G  G  G  G  G  G  G  G  G  G  G  G  G  G  G  G  G  G  G  \n",
      "G  G  G  G  G  G  G  G  G  G  G  G  G  G  G  G  G  G  G  G  \n",
      "G  G  G  G  G  G  G  G  G  G  G  G  G  G  G  G  G  G  G  G  \n",
      "G  G  G  G  G  G  G  G  G  G  G  G  G  G  G  G  G  G  G  G  \n",
      "G  G  G  G  G  G  G  G  G  G  G  G  G  G  G  G  G  G  G  G  \n",
      "G  G  G  G  G  G  G  G  G  G  G  G  G  G  G  G  G  G  G  G  \n",
      "G  G  G  G  G  G  G  G  G  G  G  G  G  G  G  G  G  G  G  G  \n",
      "\n"
     ]
    }
   ],
   "source": [
    "world = creat_world()\n",
    "print(world.display())m,"
   ]
  },
  {
   "cell_type": "code",
   "execution_count": 36,
   "metadata": {},
   "outputs": [
    {
     "data": {
      "text/plain": [
       "0"
      ]
     },
     "execution_count": 36,
     "metadata": {},
     "output_type": "execute_result"
    }
   ],
   "source": [
    "Size(0,0).height"
   ]
  },
  {
   "cell_type": "code",
   "execution_count": null,
   "metadata": {},
   "outputs": [],
   "source": []
  }
 ],
 "metadata": {
  "kernelspec": {
   "display_name": "Python 3",
   "language": "python",
   "name": "python3"
  },
  "language_info": {
   "codemirror_mode": {
    "name": "ipython",
    "version": 3
   },
   "file_extension": ".py",
   "mimetype": "text/x-python",
   "name": "python",
   "nbconvert_exporter": "python",
   "pygments_lexer": "ipython3",
   "version": "3.11.3"
  },
  "orig_nbformat": 4
 },
 "nbformat": 4,
 "nbformat_minor": 2
}
